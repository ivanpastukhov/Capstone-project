{
 "cells": [
  {
   "cell_type": "code",
   "execution_count": 1,
   "metadata": {
    "collapsed": true
   },
   "outputs": [],
   "source": [
    "import pandas as pd\n",
    "import matplotlib.pyplot as plt\n",
    "import seaborn as sns\n",
    "import time\n",
    "import datetime\n",
    "from sklearn.linear_model import Lasso, LinearRegression\n",
    "import numpy as np\n",
    "import exceptions\n",
    "from sklearn.metrics import r2_score\n",
    "from sklearn.decomposition import PCA\n",
    "from pandas.tseries.holiday import USFederalHolidayCalendar as calendar"
   ]
  },
  {
   "cell_type": "code",
   "execution_count": 2,
   "metadata": {
    "collapsed": true
   },
   "outputs": [],
   "source": [
    "data = pd.read_csv('n_pickups_2015-12_2016-06.csv',  index_col = 0,\n",
    "                   parse_dates=True)"
   ]
  },
  {
   "cell_type": "code",
   "execution_count": 3,
   "metadata": {},
   "outputs": [
    {
     "data": {
      "text/html": [
       "<div>\n",
       "<style>\n",
       "    .dataframe thead tr:only-child th {\n",
       "        text-align: right;\n",
       "    }\n",
       "\n",
       "    .dataframe thead th {\n",
       "        text-align: left;\n",
       "    }\n",
       "\n",
       "    .dataframe tbody tr th {\n",
       "        vertical-align: top;\n",
       "    }\n",
       "</style>\n",
       "<table border=\"1\" class=\"dataframe\">\n",
       "  <thead>\n",
       "    <tr style=\"text-align: right;\">\n",
       "      <th></th>\n",
       "      <th>1075</th>\n",
       "      <th>1076</th>\n",
       "      <th>1077</th>\n",
       "      <th>1125</th>\n",
       "      <th>1126</th>\n",
       "      <th>1127</th>\n",
       "      <th>1128</th>\n",
       "      <th>1129</th>\n",
       "      <th>1130</th>\n",
       "      <th>1131</th>\n",
       "      <th>...</th>\n",
       "      <th>1630</th>\n",
       "      <th>1684</th>\n",
       "      <th>1733</th>\n",
       "      <th>1734</th>\n",
       "      <th>1783</th>\n",
       "      <th>2068</th>\n",
       "      <th>2069</th>\n",
       "      <th>2118</th>\n",
       "      <th>2119</th>\n",
       "      <th>2168</th>\n",
       "    </tr>\n",
       "    <tr>\n",
       "      <th>datetime</th>\n",
       "      <th></th>\n",
       "      <th></th>\n",
       "      <th></th>\n",
       "      <th></th>\n",
       "      <th></th>\n",
       "      <th></th>\n",
       "      <th></th>\n",
       "      <th></th>\n",
       "      <th></th>\n",
       "      <th></th>\n",
       "      <th></th>\n",
       "      <th></th>\n",
       "      <th></th>\n",
       "      <th></th>\n",
       "      <th></th>\n",
       "      <th></th>\n",
       "      <th></th>\n",
       "      <th></th>\n",
       "      <th></th>\n",
       "      <th></th>\n",
       "      <th></th>\n",
       "    </tr>\n",
       "  </thead>\n",
       "  <tbody>\n",
       "    <tr>\n",
       "      <th>2016-06-30 19:00:00</th>\n",
       "      <td>116</td>\n",
       "      <td>190</td>\n",
       "      <td>135</td>\n",
       "      <td>132</td>\n",
       "      <td>395</td>\n",
       "      <td>308</td>\n",
       "      <td>401</td>\n",
       "      <td>336</td>\n",
       "      <td>496</td>\n",
       "      <td>260</td>\n",
       "      <td>...</td>\n",
       "      <td>2</td>\n",
       "      <td>44</td>\n",
       "      <td>4</td>\n",
       "      <td>297</td>\n",
       "      <td>311</td>\n",
       "      <td>104</td>\n",
       "      <td>9</td>\n",
       "      <td>142</td>\n",
       "      <td>96</td>\n",
       "      <td>1</td>\n",
       "    </tr>\n",
       "    <tr>\n",
       "      <th>2016-06-30 20:00:00</th>\n",
       "      <td>104</td>\n",
       "      <td>142</td>\n",
       "      <td>149</td>\n",
       "      <td>141</td>\n",
       "      <td>333</td>\n",
       "      <td>368</td>\n",
       "      <td>390</td>\n",
       "      <td>385</td>\n",
       "      <td>560</td>\n",
       "      <td>247</td>\n",
       "      <td>...</td>\n",
       "      <td>1</td>\n",
       "      <td>27</td>\n",
       "      <td>7</td>\n",
       "      <td>288</td>\n",
       "      <td>344</td>\n",
       "      <td>103</td>\n",
       "      <td>24</td>\n",
       "      <td>209</td>\n",
       "      <td>145</td>\n",
       "      <td>0</td>\n",
       "    </tr>\n",
       "    <tr>\n",
       "      <th>2016-06-30 21:00:00</th>\n",
       "      <td>151</td>\n",
       "      <td>162</td>\n",
       "      <td>145</td>\n",
       "      <td>135</td>\n",
       "      <td>359</td>\n",
       "      <td>422</td>\n",
       "      <td>460</td>\n",
       "      <td>541</td>\n",
       "      <td>672</td>\n",
       "      <td>259</td>\n",
       "      <td>...</td>\n",
       "      <td>2</td>\n",
       "      <td>21</td>\n",
       "      <td>9</td>\n",
       "      <td>287</td>\n",
       "      <td>307</td>\n",
       "      <td>185</td>\n",
       "      <td>9</td>\n",
       "      <td>213</td>\n",
       "      <td>142</td>\n",
       "      <td>1</td>\n",
       "    </tr>\n",
       "    <tr>\n",
       "      <th>2016-06-30 22:00:00</th>\n",
       "      <td>106</td>\n",
       "      <td>168</td>\n",
       "      <td>103</td>\n",
       "      <td>125</td>\n",
       "      <td>317</td>\n",
       "      <td>476</td>\n",
       "      <td>405</td>\n",
       "      <td>508</td>\n",
       "      <td>578</td>\n",
       "      <td>259</td>\n",
       "      <td>...</td>\n",
       "      <td>3</td>\n",
       "      <td>19</td>\n",
       "      <td>5</td>\n",
       "      <td>358</td>\n",
       "      <td>387</td>\n",
       "      <td>169</td>\n",
       "      <td>12</td>\n",
       "      <td>206</td>\n",
       "      <td>146</td>\n",
       "      <td>0</td>\n",
       "    </tr>\n",
       "    <tr>\n",
       "      <th>2016-06-30 23:00:00</th>\n",
       "      <td>85</td>\n",
       "      <td>130</td>\n",
       "      <td>86</td>\n",
       "      <td>113</td>\n",
       "      <td>256</td>\n",
       "      <td>428</td>\n",
       "      <td>483</td>\n",
       "      <td>531</td>\n",
       "      <td>631</td>\n",
       "      <td>210</td>\n",
       "      <td>...</td>\n",
       "      <td>9</td>\n",
       "      <td>0</td>\n",
       "      <td>7</td>\n",
       "      <td>323</td>\n",
       "      <td>110</td>\n",
       "      <td>147</td>\n",
       "      <td>38</td>\n",
       "      <td>173</td>\n",
       "      <td>119</td>\n",
       "      <td>0</td>\n",
       "    </tr>\n",
       "  </tbody>\n",
       "</table>\n",
       "<p>5 rows × 102 columns</p>\n",
       "</div>"
      ],
      "text/plain": [
       "                     1075  1076  1077  1125  1126  1127  1128  1129  1130  \\\n",
       "datetime                                                                    \n",
       "2016-06-30 19:00:00   116   190   135   132   395   308   401   336   496   \n",
       "2016-06-30 20:00:00   104   142   149   141   333   368   390   385   560   \n",
       "2016-06-30 21:00:00   151   162   145   135   359   422   460   541   672   \n",
       "2016-06-30 22:00:00   106   168   103   125   317   476   405   508   578   \n",
       "2016-06-30 23:00:00    85   130    86   113   256   428   483   531   631   \n",
       "\n",
       "                     1131  ...   1630  1684  1733  1734  1783  2068  2069  \\\n",
       "datetime                   ...                                              \n",
       "2016-06-30 19:00:00   260  ...      2    44     4   297   311   104     9   \n",
       "2016-06-30 20:00:00   247  ...      1    27     7   288   344   103    24   \n",
       "2016-06-30 21:00:00   259  ...      2    21     9   287   307   185     9   \n",
       "2016-06-30 22:00:00   259  ...      3    19     5   358   387   169    12   \n",
       "2016-06-30 23:00:00   210  ...      9     0     7   323   110   147    38   \n",
       "\n",
       "                     2118  2119  2168  \n",
       "datetime                               \n",
       "2016-06-30 19:00:00   142    96     1  \n",
       "2016-06-30 20:00:00   209   145     0  \n",
       "2016-06-30 21:00:00   213   142     1  \n",
       "2016-06-30 22:00:00   206   146     0  \n",
       "2016-06-30 23:00:00   173   119     0  \n",
       "\n",
       "[5 rows x 102 columns]"
      ]
     },
     "execution_count": 3,
     "metadata": {},
     "output_type": "execute_result"
    }
   ],
   "source": [
    "test_end      = pd.to_datetime('2016-04-30 23')\n",
    "train_end     = pd.to_datetime('2016-05-31 23')\n",
    "predict_start = pd.to_datetime('2016-05-31 23')\n",
    "predict_end   = pd.to_datetime('2016-06-30 17')\n",
    "features = pd.DataFrame(index = data.index)\n",
    "data.tail()"
   ]
  },
  {
   "cell_type": "markdown",
   "metadata": {},
   "source": [
    "Теперь создадим дополнительные признаки на основании периодических функций."
   ]
  },
  {
   "cell_type": "code",
   "execution_count": 4,
   "metadata": {
    "collapsed": true
   },
   "outputs": [],
   "source": [
    "def harmonics(x_len, func, period, shift, factor):\n",
    "    x = np.arange(1 + shift, x_len + shift + 1)\n",
    "    try : \n",
    "        if func == 'sin':\n",
    "            f = np.sin\n",
    "        elif func == 'cos':\n",
    "            f = np.cos\n",
    "    except Exception:\n",
    "        print \"func must be 'sin' or 'cos'.\"\n",
    "    return f(x * 2. * np.pi * float(factor)/float(period))"
   ]
  },
  {
   "cell_type": "code",
   "execution_count": 5,
   "metadata": {},
   "outputs": [
    {
     "name": "stdout",
     "output_type": "stream",
     "text": [
      "Wall time: 839 ms\n"
     ]
    }
   ],
   "source": [
    "%%time\n",
    "harmonics_names = []\n",
    "periods   = [6, 12, 24, 168]\n",
    "for period in periods:\n",
    "    for shift in range (0, int(period/2), 2):\n",
    "        for factor in range (1, int(period/2 + 1), 3):\n",
    "            name = '{}_{}_{}_{}'.format('sin', int(period), shift, factor)\n",
    "            harmonics_names.append(name)\n",
    "            features[name] = harmonics(features.shape[0], 'sin', period, shift, factor)\n",
    "features['trend_asc'] = np.arange(1, features.shape[0] + 1)\n",
    "features['trend_des'] = features.trend_asc.values[::-1]"
   ]
  },
  {
   "cell_type": "code",
   "execution_count": 6,
   "metadata": {},
   "outputs": [
    {
     "name": "stderr",
     "output_type": "stream",
     "text": [
      "C:\\ProgramData\\Anaconda2\\lib\\site-packages\\sklearn\\linear_model\\coordinate_descent.py:484: ConvergenceWarning: Objective did not converge. You might want to increase the number of iterations. Fitting data with very small alpha may cause precision problems.\n",
      "  ConvergenceWarning)\n"
     ]
    },
    {
     "name": "stdout",
     "output_type": "stream",
     "text": [
      "Wall time: 2min 39s\n"
     ]
    }
   ],
   "source": [
    "%%time\n",
    "lasso_scores = []\n",
    "for col in data.columns:\n",
    "    estimator = Lasso()\n",
    "    X = features.loc[:test_end,:]\n",
    "    y = data.loc[:test_end, col].astype('float32')\n",
    "    estimator.fit(X, y, )\n",
    "    lasso_scores.append(estimator.score(X,y))"
   ]
  },
  {
   "cell_type": "code",
   "execution_count": 7,
   "metadata": {},
   "outputs": [
    {
     "data": {
      "image/png": "[encoded data removed]",
      "text/plain": [
       "<matplotlib.figure.Figure at 0x5dd14e0>"
      ]
     },
     "metadata": {},
     "output_type": "display_data"
    }
   ],
   "source": [
    "plt.hist(lasso_scores, bins = 20)\n",
    "plt.xlabel('$R^2$')\n",
    "plt.ylabel('Count')\n",
    "plt.title('$R^2$ score of linear regression with L1-regularization')\n",
    "plt.show()"
   ]
  },
  {
   "cell_type": "code",
   "execution_count": 8,
   "metadata": {
    "collapsed": true
   },
   "outputs": [],
   "source": [
    "holidays = calendar().holidays(start = features.index.min(), end = features.index.max()).floor('1D')\n",
    "\n",
    "features['weekday'], features['hour'] = features.index, features.index\n",
    "features['weekday']    = features.weekday.apply(lambda x: x.weekday())\n",
    "features['hour']       = features.hour.apply(lambda x: x.hour)\n",
    "features['holidays']   = features.index.floor('1D').isin(holidays)"
   ]
  },
  {
   "cell_type": "code",
   "execution_count": 9,
   "metadata": {
    "collapsed": true
   },
   "outputs": [],
   "source": [
    "diff_names = []\n",
    "for col in data.columns:\n",
    "    for diff in range (1, 49):\n",
    "        name = 'diff_{}_{}'.format(col, diff)\n",
    "        diff_names.append(name)\n",
    "        npickups = data.loc[:, col]\n",
    "        features[name] = npickups - npickups.shift(diff)"
   ]
  },
  {
   "cell_type": "code",
   "execution_count": 10,
   "metadata": {},
   "outputs": [
    {
     "data": {
      "text/plain": [
       "(5112, 6109)"
      ]
     },
     "execution_count": 10,
     "metadata": {},
     "output_type": "execute_result"
    }
   ],
   "source": [
    "features.shape"
   ]
  },
  {
   "cell_type": "code",
   "execution_count": 11,
   "metadata": {},
   "outputs": [
    {
     "data": {
      "text/plain": [
       "(5064, 6109)"
      ]
     },
     "execution_count": 11,
     "metadata": {},
     "output_type": "execute_result"
    }
   ],
   "source": [
    "features = features.dropna(axis = 'rows')\n",
    "features.shape"
   ]
  },
  {
   "cell_type": "code",
   "execution_count": 12,
   "metadata": {},
   "outputs": [
    {
     "data": {
      "image/png": "[encoded data removed]",
      "text/plain": [
       "<matplotlib.figure.Figure at 0xdeeac50>"
      ]
     },
     "metadata": {},
     "output_type": "display_data"
    },
    {
     "name": "stdout",
     "output_type": "stream",
     "text": [
      "Wall time: 824 ms\n"
     ]
    }
   ],
   "source": [
    "%%time\n",
    "pca_harmonics = PCA(n_components=100, svd_solver='randomized').fit(features.loc[:, harmonics_names])\n",
    "plt.figure(figsize=(17,11))\n",
    "plt.plot(np.cumsum(pca_harmonics.explained_variance_ratio_), color='k', lw=2)\n",
    "plt.xlabel('Number of components')\n",
    "plt.ylabel('Total explained variance')\n",
    "plt.xlim(0, 100)\n",
    "plt.yticks(np.arange(0, 1.1, 0.1))\n",
    "plt.axvline(55, c='b')\n",
    "plt.axhline(0.9, c='r')\n",
    "plt.show();"
   ]
  },
  {
   "cell_type": "code",
   "execution_count": 13,
   "metadata": {},
   "outputs": [
    {
     "data": {
      "image/png": "[encoded data removed]",
      "text/plain": [
       "<matplotlib.figure.Figure at 0x5dd12b0>"
      ]
     },
     "metadata": {},
     "output_type": "display_data"
    },
    {
     "name": "stdout",
     "output_type": "stream",
     "text": [
      "Wall time: 2.12 s\n"
     ]
    }
   ],
   "source": [
    "%%time\n",
    "pca_diff = PCA(n_components=100, svd_solver='randomized').fit(features.loc[:, diff_names])\n",
    "plt.figure(figsize=(17,11))\n",
    "plt.plot(np.cumsum(pca_diff.explained_variance_ratio_), color='k', lw=2)\n",
    "plt.xlabel('Number of components')\n",
    "plt.ylabel('Total explained variance')\n",
    "plt.xlim(0, 100)\n",
    "plt.yticks(np.arange(0, 1.1, 0.1))\n",
    "plt.axvline(40, c='b')\n",
    "plt.axhline(0.9, c='r')\n",
    "plt.show();"
   ]
  },
  {
   "cell_type": "code",
   "execution_count": 14,
   "metadata": {
    "collapsed": true
   },
   "outputs": [],
   "source": [
    "harmonics_decorr = PCA(n_components=55, svd_solver='randomized').fit_transform(features.loc[:, harmonics_names])\n",
    "diff_decorr      = PCA(n_components=40, svd_solver='randomized').fit_transform(features.loc[:, diff_names])"
   ]
  },
  {
   "cell_type": "code",
   "execution_count": 15,
   "metadata": {},
   "outputs": [
    {
     "data": {
      "text/html": [
       "<div>\n",
       "<style>\n",
       "    .dataframe thead tr:only-child th {\n",
       "        text-align: right;\n",
       "    }\n",
       "\n",
       "    .dataframe thead th {\n",
       "        text-align: left;\n",
       "    }\n",
       "\n",
       "    .dataframe tbody tr th {\n",
       "        vertical-align: top;\n",
       "    }\n",
       "</style>\n",
       "<table border=\"1\" class=\"dataframe\">\n",
       "  <thead>\n",
       "    <tr style=\"text-align: right;\">\n",
       "      <th></th>\n",
       "      <th>trend_asc</th>\n",
       "      <th>trend_des</th>\n",
       "      <th>weekday</th>\n",
       "      <th>hour</th>\n",
       "      <th>holidays</th>\n",
       "    </tr>\n",
       "    <tr>\n",
       "      <th>datetime</th>\n",
       "      <th></th>\n",
       "      <th></th>\n",
       "      <th></th>\n",
       "      <th></th>\n",
       "      <th></th>\n",
       "    </tr>\n",
       "  </thead>\n",
       "  <tbody>\n",
       "    <tr>\n",
       "      <th>2015-12-03 00:00:00</th>\n",
       "      <td>49</td>\n",
       "      <td>5064</td>\n",
       "      <td>3</td>\n",
       "      <td>0</td>\n",
       "      <td>False</td>\n",
       "    </tr>\n",
       "    <tr>\n",
       "      <th>2015-12-03 01:00:00</th>\n",
       "      <td>50</td>\n",
       "      <td>5063</td>\n",
       "      <td>3</td>\n",
       "      <td>1</td>\n",
       "      <td>False</td>\n",
       "    </tr>\n",
       "    <tr>\n",
       "      <th>2015-12-03 02:00:00</th>\n",
       "      <td>51</td>\n",
       "      <td>5062</td>\n",
       "      <td>3</td>\n",
       "      <td>2</td>\n",
       "      <td>False</td>\n",
       "    </tr>\n",
       "    <tr>\n",
       "      <th>2015-12-03 03:00:00</th>\n",
       "      <td>52</td>\n",
       "      <td>5061</td>\n",
       "      <td>3</td>\n",
       "      <td>3</td>\n",
       "      <td>False</td>\n",
       "    </tr>\n",
       "    <tr>\n",
       "      <th>2015-12-03 04:00:00</th>\n",
       "      <td>53</td>\n",
       "      <td>5060</td>\n",
       "      <td>3</td>\n",
       "      <td>4</td>\n",
       "      <td>False</td>\n",
       "    </tr>\n",
       "  </tbody>\n",
       "</table>\n",
       "</div>"
      ],
      "text/plain": [
       "                     trend_asc  trend_des  weekday  hour  holidays\n",
       "datetime                                                          \n",
       "2015-12-03 00:00:00         49       5064        3     0     False\n",
       "2015-12-03 01:00:00         50       5063        3     1     False\n",
       "2015-12-03 02:00:00         51       5062        3     2     False\n",
       "2015-12-03 03:00:00         52       5061        3     3     False\n",
       "2015-12-03 04:00:00         53       5060        3     4     False"
      ]
     },
     "execution_count": 15,
     "metadata": {},
     "output_type": "execute_result"
    }
   ],
   "source": [
    "features.drop(np.hstack((harmonics_names, diff_names)), axis = 'columns', inplace = True)\n",
    "features.head()"
   ]
  },
  {
   "cell_type": "code",
   "execution_count": 16,
   "metadata": {
    "collapsed": true
   },
   "outputs": [],
   "source": [
    "for i, col in enumerate(harmonics_decorr.T):\n",
    "    name = 'harmonics_decorr_{}'.format(i)\n",
    "    features[name] = col\n",
    "for i, col in enumerate(diff_decorr.T):\n",
    "    name = 'diff_decorr_{}'.format(i)\n",
    "    features[name] = col"
   ]
  },
  {
   "cell_type": "code",
   "execution_count": 17,
   "metadata": {
    "scrolled": true
   },
   "outputs": [
    {
     "data": {
      "text/html": [
       "<div>\n",
       "<style>\n",
       "    .dataframe thead tr:only-child th {\n",
       "        text-align: right;\n",
       "    }\n",
       "\n",
       "    .dataframe thead th {\n",
       "        text-align: left;\n",
       "    }\n",
       "\n",
       "    .dataframe tbody tr th {\n",
       "        vertical-align: top;\n",
       "    }\n",
       "</style>\n",
       "<table border=\"1\" class=\"dataframe\">\n",
       "  <thead>\n",
       "    <tr style=\"text-align: right;\">\n",
       "      <th></th>\n",
       "      <th>trend_asc</th>\n",
       "      <th>trend_des</th>\n",
       "      <th>weekday</th>\n",
       "      <th>hour</th>\n",
       "      <th>holidays</th>\n",
       "      <th>harmonics_decorr_0</th>\n",
       "      <th>harmonics_decorr_1</th>\n",
       "      <th>harmonics_decorr_2</th>\n",
       "      <th>harmonics_decorr_3</th>\n",
       "      <th>harmonics_decorr_4</th>\n",
       "      <th>...</th>\n",
       "      <th>diff_decorr_30</th>\n",
       "      <th>diff_decorr_31</th>\n",
       "      <th>diff_decorr_32</th>\n",
       "      <th>diff_decorr_33</th>\n",
       "      <th>diff_decorr_34</th>\n",
       "      <th>diff_decorr_35</th>\n",
       "      <th>diff_decorr_36</th>\n",
       "      <th>diff_decorr_37</th>\n",
       "      <th>diff_decorr_38</th>\n",
       "      <th>diff_decorr_39</th>\n",
       "    </tr>\n",
       "    <tr>\n",
       "      <th>datetime</th>\n",
       "      <th></th>\n",
       "      <th></th>\n",
       "      <th></th>\n",
       "      <th></th>\n",
       "      <th></th>\n",
       "      <th></th>\n",
       "      <th></th>\n",
       "      <th></th>\n",
       "      <th></th>\n",
       "      <th></th>\n",
       "      <th></th>\n",
       "      <th></th>\n",
       "      <th></th>\n",
       "      <th></th>\n",
       "      <th></th>\n",
       "      <th></th>\n",
       "      <th></th>\n",
       "      <th></th>\n",
       "      <th></th>\n",
       "      <th></th>\n",
       "      <th></th>\n",
       "    </tr>\n",
       "  </thead>\n",
       "  <tbody>\n",
       "    <tr>\n",
       "      <th>2015-12-03 00:00:00</th>\n",
       "      <td>49</td>\n",
       "      <td>5064</td>\n",
       "      <td>3</td>\n",
       "      <td>0</td>\n",
       "      <td>False</td>\n",
       "      <td>2.598249</td>\n",
       "      <td>-4.448103</td>\n",
       "      <td>-3.822258</td>\n",
       "      <td>4.176153</td>\n",
       "      <td>2.261649</td>\n",
       "      <td>...</td>\n",
       "      <td>-56.918741</td>\n",
       "      <td>1457.996976</td>\n",
       "      <td>-476.825020</td>\n",
       "      <td>-336.077390</td>\n",
       "      <td>470.536670</td>\n",
       "      <td>-292.076406</td>\n",
       "      <td>-63.287412</td>\n",
       "      <td>134.788292</td>\n",
       "      <td>-300.902368</td>\n",
       "      <td>-342.421720</td>\n",
       "    </tr>\n",
       "    <tr>\n",
       "      <th>2015-12-03 01:00:00</th>\n",
       "      <td>50</td>\n",
       "      <td>5063</td>\n",
       "      <td>3</td>\n",
       "      <td>1</td>\n",
       "      <td>False</td>\n",
       "      <td>5.197106</td>\n",
       "      <td>0.000309</td>\n",
       "      <td>3.598168</td>\n",
       "      <td>5.983577</td>\n",
       "      <td>-2.996551</td>\n",
       "      <td>...</td>\n",
       "      <td>402.516758</td>\n",
       "      <td>376.137781</td>\n",
       "      <td>-933.110219</td>\n",
       "      <td>21.084986</td>\n",
       "      <td>205.487363</td>\n",
       "      <td>-261.621202</td>\n",
       "      <td>-30.093662</td>\n",
       "      <td>273.223532</td>\n",
       "      <td>184.103050</td>\n",
       "      <td>164.758330</td>\n",
       "    </tr>\n",
       "    <tr>\n",
       "      <th>2015-12-03 02:00:00</th>\n",
       "      <td>51</td>\n",
       "      <td>5062</td>\n",
       "      <td>3</td>\n",
       "      <td>2</td>\n",
       "      <td>False</td>\n",
       "      <td>2.598354</td>\n",
       "      <td>4.447239</td>\n",
       "      <td>-5.263867</td>\n",
       "      <td>2.598362</td>\n",
       "      <td>-2.619052</td>\n",
       "      <td>...</td>\n",
       "      <td>-86.891220</td>\n",
       "      <td>-264.688943</td>\n",
       "      <td>-109.317036</td>\n",
       "      <td>93.140681</td>\n",
       "      <td>-231.740751</td>\n",
       "      <td>94.406881</td>\n",
       "      <td>223.283407</td>\n",
       "      <td>-407.385177</td>\n",
       "      <td>697.959769</td>\n",
       "      <td>-411.532493</td>\n",
       "    </tr>\n",
       "  </tbody>\n",
       "</table>\n",
       "<p>3 rows × 100 columns</p>\n",
       "</div>"
      ],
      "text/plain": [
       "                     trend_asc  trend_des  weekday  hour  holidays  \\\n",
       "datetime                                                             \n",
       "2015-12-03 00:00:00         49       5064        3     0     False   \n",
       "2015-12-03 01:00:00         50       5063        3     1     False   \n",
       "2015-12-03 02:00:00         51       5062        3     2     False   \n",
       "\n",
       "                     harmonics_decorr_0  harmonics_decorr_1  \\\n",
       "datetime                                                      \n",
       "2015-12-03 00:00:00            2.598249           -4.448103   \n",
       "2015-12-03 01:00:00            5.197106            0.000309   \n",
       "2015-12-03 02:00:00            2.598354            4.447239   \n",
       "\n",
       "                     harmonics_decorr_2  harmonics_decorr_3  \\\n",
       "datetime                                                      \n",
       "2015-12-03 00:00:00           -3.822258            4.176153   \n",
       "2015-12-03 01:00:00            3.598168            5.983577   \n",
       "2015-12-03 02:00:00           -5.263867            2.598362   \n",
       "\n",
       "                     harmonics_decorr_4       ...        diff_decorr_30  \\\n",
       "datetime                                      ...                         \n",
       "2015-12-03 00:00:00            2.261649       ...            -56.918741   \n",
       "2015-12-03 01:00:00           -2.996551       ...            402.516758   \n",
       "2015-12-03 02:00:00           -2.619052       ...            -86.891220   \n",
       "\n",
       "                     diff_decorr_31  diff_decorr_32  diff_decorr_33  \\\n",
       "datetime                                                              \n",
       "2015-12-03 00:00:00     1457.996976     -476.825020     -336.077390   \n",
       "2015-12-03 01:00:00      376.137781     -933.110219       21.084986   \n",
       "2015-12-03 02:00:00     -264.688943     -109.317036       93.140681   \n",
       "\n",
       "                     diff_decorr_34  diff_decorr_35  diff_decorr_36  \\\n",
       "datetime                                                              \n",
       "2015-12-03 00:00:00      470.536670     -292.076406      -63.287412   \n",
       "2015-12-03 01:00:00      205.487363     -261.621202      -30.093662   \n",
       "2015-12-03 02:00:00     -231.740751       94.406881      223.283407   \n",
       "\n",
       "                     diff_decorr_37  diff_decorr_38  diff_decorr_39  \n",
       "datetime                                                             \n",
       "2015-12-03 00:00:00      134.788292     -300.902368     -342.421720  \n",
       "2015-12-03 01:00:00      273.223532      184.103050      164.758330  \n",
       "2015-12-03 02:00:00     -407.385177      697.959769     -411.532493  \n",
       "\n",
       "[3 rows x 100 columns]"
      ]
     },
     "execution_count": 17,
     "metadata": {},
     "output_type": "execute_result"
    }
   ],
   "source": [
    "features.head(3)"
   ]
  },
  {
   "cell_type": "code",
   "execution_count": 18,
   "metadata": {},
   "outputs": [
    {
     "data": {
      "text/html": [
       "<div>\n",
       "<style>\n",
       "    .dataframe thead tr:only-child th {\n",
       "        text-align: right;\n",
       "    }\n",
       "\n",
       "    .dataframe thead th {\n",
       "        text-align: left;\n",
       "    }\n",
       "\n",
       "    .dataframe tbody tr th {\n",
       "        vertical-align: top;\n",
       "    }\n",
       "</style>\n",
       "<table border=\"1\" class=\"dataframe\">\n",
       "  <thead>\n",
       "    <tr style=\"text-align: right;\">\n",
       "      <th></th>\n",
       "      <th>trend_asc</th>\n",
       "      <th>trend_des</th>\n",
       "      <th>hour</th>\n",
       "      <th>harmonics_decorr_0</th>\n",
       "      <th>harmonics_decorr_1</th>\n",
       "      <th>harmonics_decorr_2</th>\n",
       "      <th>harmonics_decorr_3</th>\n",
       "      <th>harmonics_decorr_4</th>\n",
       "      <th>harmonics_decorr_5</th>\n",
       "      <th>harmonics_decorr_6</th>\n",
       "      <th>...</th>\n",
       "      <th>diff_decorr_37</th>\n",
       "      <th>diff_decorr_38</th>\n",
       "      <th>diff_decorr_39</th>\n",
       "      <th>weekday_1</th>\n",
       "      <th>weekday_2</th>\n",
       "      <th>weekday_3</th>\n",
       "      <th>weekday_4</th>\n",
       "      <th>weekday_5</th>\n",
       "      <th>weekday_6</th>\n",
       "      <th>holidays_True</th>\n",
       "    </tr>\n",
       "    <tr>\n",
       "      <th>datetime</th>\n",
       "      <th></th>\n",
       "      <th></th>\n",
       "      <th></th>\n",
       "      <th></th>\n",
       "      <th></th>\n",
       "      <th></th>\n",
       "      <th></th>\n",
       "      <th></th>\n",
       "      <th></th>\n",
       "      <th></th>\n",
       "      <th></th>\n",
       "      <th></th>\n",
       "      <th></th>\n",
       "      <th></th>\n",
       "      <th></th>\n",
       "      <th></th>\n",
       "      <th></th>\n",
       "      <th></th>\n",
       "      <th></th>\n",
       "      <th></th>\n",
       "      <th></th>\n",
       "    </tr>\n",
       "  </thead>\n",
       "  <tbody>\n",
       "    <tr>\n",
       "      <th>2015-12-03 00:00:00</th>\n",
       "      <td>49</td>\n",
       "      <td>5064</td>\n",
       "      <td>0</td>\n",
       "      <td>2.598249</td>\n",
       "      <td>-4.448103</td>\n",
       "      <td>-3.822258</td>\n",
       "      <td>4.176153</td>\n",
       "      <td>2.261649</td>\n",
       "      <td>2.982628</td>\n",
       "      <td>5.311882</td>\n",
       "      <td>...</td>\n",
       "      <td>134.788292</td>\n",
       "      <td>-300.902368</td>\n",
       "      <td>-342.421720</td>\n",
       "      <td>0</td>\n",
       "      <td>0</td>\n",
       "      <td>1</td>\n",
       "      <td>0</td>\n",
       "      <td>0</td>\n",
       "      <td>0</td>\n",
       "      <td>0</td>\n",
       "    </tr>\n",
       "    <tr>\n",
       "      <th>2015-12-03 01:00:00</th>\n",
       "      <td>50</td>\n",
       "      <td>5063</td>\n",
       "      <td>1</td>\n",
       "      <td>5.197106</td>\n",
       "      <td>0.000309</td>\n",
       "      <td>3.598168</td>\n",
       "      <td>5.983577</td>\n",
       "      <td>-2.996551</td>\n",
       "      <td>2.256997</td>\n",
       "      <td>-3.555026</td>\n",
       "      <td>...</td>\n",
       "      <td>273.223532</td>\n",
       "      <td>184.103050</td>\n",
       "      <td>164.758330</td>\n",
       "      <td>0</td>\n",
       "      <td>0</td>\n",
       "      <td>1</td>\n",
       "      <td>0</td>\n",
       "      <td>0</td>\n",
       "      <td>0</td>\n",
       "      <td>0</td>\n",
       "    </tr>\n",
       "    <tr>\n",
       "      <th>2015-12-03 02:00:00</th>\n",
       "      <td>51</td>\n",
       "      <td>5062</td>\n",
       "      <td>2</td>\n",
       "      <td>2.598354</td>\n",
       "      <td>4.447239</td>\n",
       "      <td>-5.263867</td>\n",
       "      <td>2.598362</td>\n",
       "      <td>-2.619052</td>\n",
       "      <td>-5.621549</td>\n",
       "      <td>0.000074</td>\n",
       "      <td>...</td>\n",
       "      <td>-407.385177</td>\n",
       "      <td>697.959769</td>\n",
       "      <td>-411.532493</td>\n",
       "      <td>0</td>\n",
       "      <td>0</td>\n",
       "      <td>1</td>\n",
       "      <td>0</td>\n",
       "      <td>0</td>\n",
       "      <td>0</td>\n",
       "      <td>0</td>\n",
       "    </tr>\n",
       "    <tr>\n",
       "      <th>2015-12-03 03:00:00</th>\n",
       "      <td>52</td>\n",
       "      <td>5061</td>\n",
       "      <td>3</td>\n",
       "      <td>-2.599158</td>\n",
       "      <td>4.447860</td>\n",
       "      <td>1.503429</td>\n",
       "      <td>3.819849</td>\n",
       "      <td>6.553179</td>\n",
       "      <td>-0.173550</td>\n",
       "      <td>0.708774</td>\n",
       "      <td>...</td>\n",
       "      <td>-166.428098</td>\n",
       "      <td>-26.369371</td>\n",
       "      <td>-507.081951</td>\n",
       "      <td>0</td>\n",
       "      <td>0</td>\n",
       "      <td>1</td>\n",
       "      <td>0</td>\n",
       "      <td>0</td>\n",
       "      <td>0</td>\n",
       "      <td>0</td>\n",
       "    </tr>\n",
       "    <tr>\n",
       "      <th>2015-12-03 04:00:00</th>\n",
       "      <td>53</td>\n",
       "      <td>5060</td>\n",
       "      <td>4</td>\n",
       "      <td>-5.197913</td>\n",
       "      <td>-0.000305</td>\n",
       "      <td>-3.000475</td>\n",
       "      <td>1.080852</td>\n",
       "      <td>-3.251123</td>\n",
       "      <td>4.548512</td>\n",
       "      <td>-3.602363</td>\n",
       "      <td>...</td>\n",
       "      <td>182.278425</td>\n",
       "      <td>-537.284077</td>\n",
       "      <td>-319.252691</td>\n",
       "      <td>0</td>\n",
       "      <td>0</td>\n",
       "      <td>1</td>\n",
       "      <td>0</td>\n",
       "      <td>0</td>\n",
       "      <td>0</td>\n",
       "      <td>0</td>\n",
       "    </tr>\n",
       "  </tbody>\n",
       "</table>\n",
       "<p>5 rows × 105 columns</p>\n",
       "</div>"
      ],
      "text/plain": [
       "                     trend_asc  trend_des  hour  harmonics_decorr_0  \\\n",
       "datetime                                                              \n",
       "2015-12-03 00:00:00         49       5064     0            2.598249   \n",
       "2015-12-03 01:00:00         50       5063     1            5.197106   \n",
       "2015-12-03 02:00:00         51       5062     2            2.598354   \n",
       "2015-12-03 03:00:00         52       5061     3           -2.599158   \n",
       "2015-12-03 04:00:00         53       5060     4           -5.197913   \n",
       "\n",
       "                     harmonics_decorr_1  harmonics_decorr_2  \\\n",
       "datetime                                                      \n",
       "2015-12-03 00:00:00           -4.448103           -3.822258   \n",
       "2015-12-03 01:00:00            0.000309            3.598168   \n",
       "2015-12-03 02:00:00            4.447239           -5.263867   \n",
       "2015-12-03 03:00:00            4.447860            1.503429   \n",
       "2015-12-03 04:00:00           -0.000305           -3.000475   \n",
       "\n",
       "                     harmonics_decorr_3  harmonics_decorr_4  \\\n",
       "datetime                                                      \n",
       "2015-12-03 00:00:00            4.176153            2.261649   \n",
       "2015-12-03 01:00:00            5.983577           -2.996551   \n",
       "2015-12-03 02:00:00            2.598362           -2.619052   \n",
       "2015-12-03 03:00:00            3.819849            6.553179   \n",
       "2015-12-03 04:00:00            1.080852           -3.251123   \n",
       "\n",
       "                     harmonics_decorr_5  harmonics_decorr_6      ...        \\\n",
       "datetime                                                         ...         \n",
       "2015-12-03 00:00:00            2.982628            5.311882      ...         \n",
       "2015-12-03 01:00:00            2.256997           -3.555026      ...         \n",
       "2015-12-03 02:00:00           -5.621549            0.000074      ...         \n",
       "2015-12-03 03:00:00           -0.173550            0.708774      ...         \n",
       "2015-12-03 04:00:00            4.548512           -3.602363      ...         \n",
       "\n",
       "                     diff_decorr_37  diff_decorr_38  diff_decorr_39  \\\n",
       "datetime                                                              \n",
       "2015-12-03 00:00:00      134.788292     -300.902368     -342.421720   \n",
       "2015-12-03 01:00:00      273.223532      184.103050      164.758330   \n",
       "2015-12-03 02:00:00     -407.385177      697.959769     -411.532493   \n",
       "2015-12-03 03:00:00     -166.428098      -26.369371     -507.081951   \n",
       "2015-12-03 04:00:00      182.278425     -537.284077     -319.252691   \n",
       "\n",
       "                     weekday_1  weekday_2  weekday_3  weekday_4  weekday_5  \\\n",
       "datetime                                                                     \n",
       "2015-12-03 00:00:00          0          0          1          0          0   \n",
       "2015-12-03 01:00:00          0          0          1          0          0   \n",
       "2015-12-03 02:00:00          0          0          1          0          0   \n",
       "2015-12-03 03:00:00          0          0          1          0          0   \n",
       "2015-12-03 04:00:00          0          0          1          0          0   \n",
       "\n",
       "                     weekday_6  holidays_True  \n",
       "datetime                                       \n",
       "2015-12-03 00:00:00          0              0  \n",
       "2015-12-03 01:00:00          0              0  \n",
       "2015-12-03 02:00:00          0              0  \n",
       "2015-12-03 03:00:00          0              0  \n",
       "2015-12-03 04:00:00          0              0  \n",
       "\n",
       "[5 rows x 105 columns]"
      ]
     },
     "execution_count": 18,
     "metadata": {},
     "output_type": "execute_result"
    }
   ],
   "source": [
    "features['weekday'] = features.weekday.astype('category')\n",
    "features['holidays'] = features.holidays.astype('category')\n",
    "features = pd.get_dummies(features, drop_first=True)\n",
    "features.head()"
   ]
  },
  {
   "cell_type": "code",
   "execution_count": 19,
   "metadata": {},
   "outputs": [
    {
     "name": "stdout",
     "output_type": "stream",
     "text": [
      "Wall time: 6.15 s\n"
     ]
    }
   ],
   "source": [
    "%%time\n",
    "lasso_scores_decorr = []\n",
    "for col in data.columns:\n",
    "    estimator = Lasso()\n",
    "    dt_min = features.index.min()\n",
    "    X = features.loc[dt_min:test_end,:]\n",
    "    y = data.loc[dt_min:test_end, col].astype('float32')\n",
    "    estimator.fit(X, y, )\n",
    "    lasso_scores_decorr.append(estimator.score(X,y))"
   ]
  },
  {
   "cell_type": "code",
   "execution_count": 20,
   "metadata": {},
   "outputs": [
    {
     "data": {
      "image/png": "[encoded data removed]",
      "text/plain": [
       "<matplotlib.figure.Figure at 0x10f3d438>"
      ]
     },
     "metadata": {},
     "output_type": "display_data"
    }
   ],
   "source": [
    "plt.hist(lasso_scores_decorr, bins = 20)\n",
    "plt.xlabel('$R^2$')\n",
    "plt.ylabel('Count')\n",
    "plt.title('$R^2$ score of linear regression with L1-regularization')\n",
    "plt.show()"
   ]
  },
  {
   "cell_type": "markdown",
   "metadata": {},
   "source": [
    "Введение дополнительных признаков и их декорреляция положительно сказались на моделях, существенно увеличив их $R^2$."
   ]
  },
  {
   "cell_type": "markdown",
   "metadata": {},
   "source": [
    "Теперь загрузим предсказания аримы с прошлой недели."
   ]
  },
  {
   "cell_type": "code",
   "execution_count": 21,
   "metadata": {
    "collapsed": true
   },
   "outputs": [],
   "source": [
    "arima_predictions = pd.read_csv('predictions.csv', parse_dates=True, index_col=0)"
   ]
  },
  {
   "cell_type": "code",
   "execution_count": 22,
   "metadata": {},
   "outputs": [
    {
     "data": {
      "text/html": [
       "<div>\n",
       "<style>\n",
       "    .dataframe thead tr:only-child th {\n",
       "        text-align: right;\n",
       "    }\n",
       "\n",
       "    .dataframe thead th {\n",
       "        text-align: left;\n",
       "    }\n",
       "\n",
       "    .dataframe tbody tr th {\n",
       "        vertical-align: top;\n",
       "    }\n",
       "</style>\n",
       "<table border=\"1\" class=\"dataframe\">\n",
       "  <thead>\n",
       "    <tr style=\"text-align: right;\">\n",
       "      <th></th>\n",
       "      <th>1783_final_dt_1</th>\n",
       "      <th>1783_final_dt_2</th>\n",
       "      <th>1783_final_dt_3</th>\n",
       "      <th>1783_final_dt_4</th>\n",
       "      <th>1783_final_dt_5</th>\n",
       "      <th>1783_final_dt_6</th>\n",
       "      <th>1076_final_dt_1</th>\n",
       "      <th>1076_final_dt_2</th>\n",
       "      <th>1076_final_dt_3</th>\n",
       "      <th>1076_final_dt_4</th>\n",
       "      <th>...</th>\n",
       "      <th>1282_final_dt_3</th>\n",
       "      <th>1282_final_dt_4</th>\n",
       "      <th>1282_final_dt_5</th>\n",
       "      <th>1282_final_dt_6</th>\n",
       "      <th>1684_final_dt_1</th>\n",
       "      <th>1684_final_dt_2</th>\n",
       "      <th>1684_final_dt_3</th>\n",
       "      <th>1684_final_dt_4</th>\n",
       "      <th>1684_final_dt_5</th>\n",
       "      <th>1684_final_dt_6</th>\n",
       "    </tr>\n",
       "  </thead>\n",
       "  <tbody>\n",
       "    <tr>\n",
       "      <th>2015-12-01 00:00:00</th>\n",
       "      <td>-28.315719</td>\n",
       "      <td>-51.358492</td>\n",
       "      <td>-48.410119</td>\n",
       "      <td>-58.562330</td>\n",
       "      <td>-65.317439</td>\n",
       "      <td>-23.680765</td>\n",
       "      <td>37.014835</td>\n",
       "      <td>26.328980</td>\n",
       "      <td>22.906059</td>\n",
       "      <td>30.888397</td>\n",
       "      <td>...</td>\n",
       "      <td>108.534313</td>\n",
       "      <td>122.172936</td>\n",
       "      <td>149.803229</td>\n",
       "      <td>297.544747</td>\n",
       "      <td>-3.258614</td>\n",
       "      <td>-4.847558</td>\n",
       "      <td>-5.545350</td>\n",
       "      <td>-5.444259</td>\n",
       "      <td>-4.655379</td>\n",
       "      <td>-3.359475</td>\n",
       "    </tr>\n",
       "    <tr>\n",
       "      <th>2015-12-01 01:00:00</th>\n",
       "      <td>-38.638788</td>\n",
       "      <td>-40.996399</td>\n",
       "      <td>-52.953780</td>\n",
       "      <td>-60.323034</td>\n",
       "      <td>-18.895300</td>\n",
       "      <td>62.512288</td>\n",
       "      <td>16.043214</td>\n",
       "      <td>15.698631</td>\n",
       "      <td>25.684783</td>\n",
       "      <td>41.974869</td>\n",
       "      <td>...</td>\n",
       "      <td>53.231456</td>\n",
       "      <td>81.816290</td>\n",
       "      <td>228.948552</td>\n",
       "      <td>508.557773</td>\n",
       "      <td>-4.062898</td>\n",
       "      <td>-5.045521</td>\n",
       "      <td>-4.977223</td>\n",
       "      <td>-4.192119</td>\n",
       "      <td>-2.896650</td>\n",
       "      <td>-1.307962</td>\n",
       "    </tr>\n",
       "    <tr>\n",
       "      <th>2015-12-01 02:00:00</th>\n",
       "      <td>-23.639469</td>\n",
       "      <td>-42.837238</td>\n",
       "      <td>-52.669774</td>\n",
       "      <td>-12.080084</td>\n",
       "      <td>69.042390</td>\n",
       "      <td>149.185107</td>\n",
       "      <td>17.724149</td>\n",
       "      <td>27.104101</td>\n",
       "      <td>42.999587</td>\n",
       "      <td>85.437216</td>\n",
       "      <td>...</td>\n",
       "      <td>135.558831</td>\n",
       "      <td>281.946991</td>\n",
       "      <td>562.031151</td>\n",
       "      <td>749.583314</td>\n",
       "      <td>-4.067192</td>\n",
       "      <td>-4.354028</td>\n",
       "      <td>-3.609810</td>\n",
       "      <td>-2.319049</td>\n",
       "      <td>-0.730903</td>\n",
       "      <td>0.949970</td>\n",
       "    </tr>\n",
       "  </tbody>\n",
       "</table>\n",
       "<p>3 rows × 612 columns</p>\n",
       "</div>"
      ],
      "text/plain": [
       "                     1783_final_dt_1  1783_final_dt_2  1783_final_dt_3  \\\n",
       "2015-12-01 00:00:00       -28.315719       -51.358492       -48.410119   \n",
       "2015-12-01 01:00:00       -38.638788       -40.996399       -52.953780   \n",
       "2015-12-01 02:00:00       -23.639469       -42.837238       -52.669774   \n",
       "\n",
       "                     1783_final_dt_4  1783_final_dt_5  1783_final_dt_6  \\\n",
       "2015-12-01 00:00:00       -58.562330       -65.317439       -23.680765   \n",
       "2015-12-01 01:00:00       -60.323034       -18.895300        62.512288   \n",
       "2015-12-01 02:00:00       -12.080084        69.042390       149.185107   \n",
       "\n",
       "                     1076_final_dt_1  1076_final_dt_2  1076_final_dt_3  \\\n",
       "2015-12-01 00:00:00        37.014835        26.328980        22.906059   \n",
       "2015-12-01 01:00:00        16.043214        15.698631        25.684783   \n",
       "2015-12-01 02:00:00        17.724149        27.104101        42.999587   \n",
       "\n",
       "                     1076_final_dt_4       ...         1282_final_dt_3  \\\n",
       "2015-12-01 00:00:00        30.888397       ...              108.534313   \n",
       "2015-12-01 01:00:00        41.974869       ...               53.231456   \n",
       "2015-12-01 02:00:00        85.437216       ...              135.558831   \n",
       "\n",
       "                     1282_final_dt_4  1282_final_dt_5  1282_final_dt_6  \\\n",
       "2015-12-01 00:00:00       122.172936       149.803229       297.544747   \n",
       "2015-12-01 01:00:00        81.816290       228.948552       508.557773   \n",
       "2015-12-01 02:00:00       281.946991       562.031151       749.583314   \n",
       "\n",
       "                     1684_final_dt_1  1684_final_dt_2  1684_final_dt_3  \\\n",
       "2015-12-01 00:00:00        -3.258614        -4.847558        -5.545350   \n",
       "2015-12-01 01:00:00        -4.062898        -5.045521        -4.977223   \n",
       "2015-12-01 02:00:00        -4.067192        -4.354028        -3.609810   \n",
       "\n",
       "                     1684_final_dt_4  1684_final_dt_5  1684_final_dt_6  \n",
       "2015-12-01 00:00:00        -5.444259        -4.655379        -3.359475  \n",
       "2015-12-01 01:00:00        -4.192119        -2.896650        -1.307962  \n",
       "2015-12-01 02:00:00        -2.319049        -0.730903         0.949970  \n",
       "\n",
       "[3 rows x 612 columns]"
      ]
     },
     "execution_count": 22,
     "metadata": {},
     "output_type": "execute_result"
    }
   ],
   "source": [
    "arima_predictions.head(3)"
   ]
  },
  {
   "cell_type": "markdown",
   "metadata": {},
   "source": [
    "Теперь скомпонуем данные, соединив сгенерированные в предыдущих ячейках гармонические, линейные икалендарные декоррелированные и категориальные признаки с предсказаниями ARIMA + LinearRegression - моделей с прошлой части работы."
   ]
  },
  {
   "cell_type": "code",
   "execution_count": 23,
   "metadata": {},
   "outputs": [
    {
     "name": "stdout",
     "output_type": "stream",
     "text": [
      "Wall time: 112 ms\n"
     ]
    }
   ],
   "source": [
    "%%time\n",
    "data_list  = []\n",
    "for dt in range (1,7):\n",
    "    names_arima = []\n",
    "    for region in data.columns:\n",
    "        name_arima = '{}_final_dt_{}'.format(region, dt) #Имя колонки с предсказанием аримы\n",
    "        names_arima.append(name_arima)\n",
    "    data_list.append(pd.concat([arima_predictions.loc[:, names_arima],\n",
    "                                    features.shift(-dt), data.shift(-dt)],axis = 'columns'))"
   ]
  },
  {
   "cell_type": "markdown",
   "metadata": {},
   "source": [
    "Теперь мы имеем массив датафреймов для каждого $\\Delta(t)$. Каждый датафрейм содержит фичи и отклики для них.\n",
    "Нужно его очистить от образовавшихся из за shift'a NaN'ов. и разделить на фичи, предсказания арим и отклики."
   ]
  },
  {
   "cell_type": "code",
   "execution_count": 24,
   "metadata": {
    "collapsed": true
   },
   "outputs": [],
   "source": [
    "data_list = map(lambda x: x.dropna(), data_list)\n",
    "data_list[5].tail()\n",
    "gen_features_list   = map(lambda x: x.loc[:, features.columns],          data_list)\n",
    "arima_features_list = map(lambda x: x.loc[:, arima_predictions.columns], data_list)\n",
    "response_list       = map(lambda x: x.loc[:, data.columns],              data_list)"
   ]
  },
  {
   "cell_type": "markdown",
   "metadata": {},
   "source": [
    "Натренируем по модели на каждую $\\Delta(t)$ для каждого региона. Будем использовать данные по по апрель включительно."
   ]
  },
  {
   "cell_type": "markdown",
   "metadata": {},
   "source": [
    "### 1, 2.\n",
    "Для каждой из шести задач прогнозирования y^T+i|T,i=1,…,6 сформируйте выборки. Откликом будет yT+i при всевозможных значениях T, а признаки можно использовать следующие:\n",
    "\n",
    "\n",
    "Разбейте каждую из шести выборок на три части:"
   ]
  },
  {
   "cell_type": "code",
   "execution_count": 31,
   "metadata": {},
   "outputs": [
    {
     "name": "stdout",
     "output_type": "stream",
     "text": [
      "Wall time: 9.16 s\n"
     ]
    }
   ],
   "source": [
    "%%time\n",
    "data_dict = {}\n",
    "for region in data.columns:\n",
    "    dt_ = {}\n",
    "    for dt in range(1,7):\n",
    "        data_ = {}\n",
    "        index = dt - 1\n",
    "        \n",
    "        name_arima = '{}_final_dt_{}'.format(region, dt)\n",
    "        \n",
    "        data_['X_test']    = pd.concat([arima_features_list[index].loc[:test_end,  name_arima],\n",
    "                                          gen_features_list[index].loc[:test_end,  :]], axis = 'columns')\n",
    "        data_['X_train']   = pd.concat([arima_features_list[index].loc[:train_end, name_arima],\n",
    "                                          gen_features_list[index].loc[:train_end, :]], axis = 'columns')\n",
    "        data_['X_may']     = pd.concat([arima_features_list[index].loc['2016-04-30 23':'2016-05-31 17', name_arima],\n",
    "                                          gen_features_list[index].loc['2016-04-30 23':'2016-05-31 17', :]], axis = 'columns')\n",
    "        data_['X_june']    = pd.concat([arima_features_list[index].loc['2016-05-31 23':'2016-06-30 17', name_arima],\n",
    "                                          gen_features_list[index].loc['2016-05-31 23':'2016-06-30 17', :]], axis = 'columns')\n",
    "        data_['y_test']  = response_list[index].loc[:test_end,   region]\n",
    "        data_['y_train'] = response_list[index].loc[:train_end,  region]\n",
    "        data_['y_may']  = response_list[index].loc['2016-04-30 23':'2016-05-31 17',   region]\n",
    "        data_['y_june'] = response_list[index].loc['2016-05-31 23':'2016-06-30 17',   region]\n",
    "        \n",
    "        dt_[dt] = data_\n",
    "    data_dict[region] = dt_"
   ]
  },
  {
   "cell_type": "markdown",
   "metadata": {},
   "source": [
    "### 3. \n",
    "Выберите вашу любимую регрессионную модель и настройте её на каждом из шести наборов данных, подбирая гиперпараметры на мае 2016. Желательно, чтобы модель:"
   ]
  },
  {
   "cell_type": "code",
   "execution_count": 33,
   "metadata": {},
   "outputs": [
    {
     "name": "stdout",
     "output_type": "stream",
     "text": [
      "Wall time: 41.8 s\n"
     ]
    }
   ],
   "source": [
    "%%time\n",
    "distances = []\n",
    "for region in data.columns:\n",
    "    for dt in range(1, 7):\n",
    "        X = data_dict[region][dt]['X_test']\n",
    "        y = data_dict[region][dt]['y_test']\n",
    "        estimator = Lasso()\n",
    "        estimator.fit(X, y)\n",
    "        y_prediction = estimator.predict(data_dict[region][dt]['X_may'])\n",
    "        y_actual     = data_dict[region][dt]['y_may']\n",
    "        distance = np.abs(y_actual - y_prediction)\n",
    "        distances.append(distance)"
   ]
  },
  {
   "cell_type": "markdown",
   "metadata": {},
   "source": [
    "### 4. \n",
    "Выбранными моделями постройте для каждой географической зоны и каждого конца истории от 2016.04.30 23:00 до 2016.05.31 17:00 прогнозы на 6 часов вперёд; посчитайте в ноутбуке ошибку прогноза по следующему функционалу:"
   ]
  },
  {
   "cell_type": "code",
   "execution_count": 51,
   "metadata": {},
   "outputs": [
    {
     "name": "stdout",
     "output_type": "stream",
     "text": [
      "Q-метрика для мая составляет: 14.582\n"
     ]
    }
   ],
   "source": [
    "print('Q-метрика для мая составляет: {}'.format(round(pd.DataFrame(distances).sum().sum() / (739. * 6. * 102.), 3)))"
   ]
  },
  {
   "cell_type": "markdown",
   "metadata": {},
   "source": [
    "Теперь обучим модели по май включительно и предскажем данные в июне."
   ]
  },
  {
   "cell_type": "markdown",
   "metadata": {},
   "source": [
    "### 5. \n",
    "Итоговыми моделями постройте прогнозы для каждого конца истории от 2016.05.31 23:00 до 2016.06.30 17:00 и запишите все результаты в один файл в формате geoID, histEndDay, histEndHour, step, y. Здесь geoID — идентификатор зоны, histEndDay — день конца истории в формате id,y, где столбец id состоит из склеенных через подчёркивание идентификатора географической зоны, даты конца истории, часа конца истории и номера отсчёта, на который делается предсказание (1-6); столбец y — ваш прогноз."
   ]
  },
  {
   "cell_type": "code",
   "execution_count": 58,
   "metadata": {},
   "outputs": [
    {
     "name": "stdout",
     "output_type": "stream",
     "text": [
      "Wall time: 41.1 s\n"
     ]
    }
   ],
   "source": [
    "%%time\n",
    "distances = []\n",
    "predictions = pd.DataFrame()\n",
    "for region in data.columns:\n",
    "    for dt in range(1, 7):\n",
    "        name = 'prediction_{}_dt_{}'.format(region, dt)\n",
    "        X = data_dict[region][dt]['X_train']\n",
    "        y = data_dict[region][dt]['y_train']\n",
    "        estimator = Lasso()\n",
    "        estimator.fit(X, y)\n",
    "        y_prediction = estimator.predict(data_dict[region][dt]['X_june'])\n",
    "        y_actual     = data_dict[region][dt]['y_june']\n",
    "        predictions[name] = y_prediction\n",
    "        distance = np.abs(y_actual - y_prediction)\n",
    "        distances.append(distance)\n",
    "predictions.index = y_actual.index"
   ]
  },
  {
   "cell_type": "code",
   "execution_count": 64,
   "metadata": {
    "collapsed": true
   },
   "outputs": [],
   "source": [
    "answer=[]\n",
    "for region in sorted(list(data.columns)):\n",
    "    for dt in pd.date_range('2016-05-31 23', '2016-06-30 17', freq = 'h'):\n",
    "        for i in range (1, 7):\n",
    "            answer.append(['{}_{}_{}_{}'.format(region, dt.date(), dt.hour,  i), \n",
    "                          predictions.loc[dt,\n",
    "                                          'prediction_{}_dt_{}'.format(region, i)]])"
   ]
  },
  {
   "cell_type": "markdown",
   "metadata": {},
   "source": [
    "### 6. \n",
    "Загрузите полученный файл на kaggle: https://inclass.kaggle.com/c/yellowtaxi. Добавьте в ноутбук ссылку на сабмишн."
   ]
  },
  {
   "cell_type": "code",
   "execution_count": 65,
   "metadata": {
    "collapsed": true
   },
   "outputs": [],
   "source": [
    "pd.DataFrame(answer).to_csv('D:/ans_C6_W5_01.csv', header = ['id', 'y'], index = False)"
   ]
  },
  {
   "cell_type": "markdown",
   "metadata": {},
   "source": [
    "https://www.kaggle.com/submissions/5632609/5632609.zip - ссылка"
   ]
  },
  {
   "cell_type": "markdown",
   "metadata": {
    "collapsed": true
   },
   "source": [
    "### 7.\n",
    "Загрузите ноутбук в форму."
   ]
  },
  {
   "cell_type": "code",
   "execution_count": null,
   "metadata": {
    "collapsed": true
   },
   "outputs": [],
   "source": []
  }
 ],
 "metadata": {
  "kernelspec": {
   "display_name": "Python 2",
   "language": "python",
   "name": "python2"
  },
  "language_info": {
   "codemirror_mode": {
    "name": "ipython",
    "version": 2
   },
   "file_extension": ".py",
   "mimetype": "text/x-python",
   "name": "python",
   "nbconvert_exporter": "python",
   "pygments_lexer": "ipython2",
   "version": "2.7.13"
  }
 },
 "nbformat": 4,
 "nbformat_minor": 2
}
