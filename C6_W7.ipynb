{
 "cells": [
  {
   "cell_type": "code",
   "execution_count": 1,
   "metadata": {
    "collapsed": true
   },
   "outputs": [],
   "source": [
    "import pandas as pd\n",
    "import numpy as np\n",
    "import matplotlib.pyplot as plt\n",
    "from scipy.stats import binned_statistic_2d\n",
    "import seaborn as sns\n",
    "from bokeh.models import ColumnDataSource, HoverTool, LogColorMapper, LogTicker\n",
    "from bokeh.io import output_notebook, show\n",
    "from bokeh.plotting import figure\n",
    "from bokeh.tile_providers import CARTODBPOSITRON\n",
    "from bokeh.models.annotations import Label\n",
    "from bokeh.models import CustomJS\n",
    "import datetime as dtt\n",
    "from matplotlib import cm"
   ]
  },
  {
   "cell_type": "code",
   "execution_count": 2,
   "metadata": {
    "collapsed": true
   },
   "outputs": [],
   "source": [
    "import cPickle as pickle\n",
    "def save_obj(data, name):\n",
    "    with open(name, 'wb') as fp:\n",
    "        pickle.dump(data, fp)\n",
    "        \n",
    "def load_obj(name):\n",
    "    with open(name, 'rb') as fp:\n",
    "        return pickle.load(fp)\n",
    "    \n",
    "##Перевод координат в формат WebMercator\n",
    "def wgs84_to_web_mercator(longitude, latitude):\n",
    "    \"\"\"Converts decimal longitude/la94728titude to Web Mercator format\"\"\"\n",
    "    k = 6378137\n",
    "    x = longitude * (k * np.pi/180.0)\n",
    "    y = np.log(np.tan((90 + latitude) * np.pi/360.0)) * k\n",
    "    return x, y"
   ]
  },
  {
   "cell_type": "code",
   "execution_count": 3,
   "metadata": {
    "collapsed": true
   },
   "outputs": [],
   "source": [
    "npickups    = pd.read_csv('npickups_june.csv',     parse_dates=True, index_col='datetime')\n",
    "predictions = pd.read_csv('predictions_C6_W6.csv', parse_dates=True, index_col='datetime')\n",
    "patch_X, patch_Y = load_obj('X_patches.p'), load_obj('Y_patches.p')"
   ]
  },
  {
   "cell_type": "code",
   "execution_count": 4,
   "metadata": {
    "collapsed": true
   },
   "outputs": [],
   "source": [
    "#Координаты границ зоны видимости на карте\n",
    "NY_lat_0 = 40.49612\n",
    "NY_lat_1 = 40.91553\n",
    "NY_lon_0 = -73.70001\n",
    "NY_lon_1 = -74.25559\n",
    "\n",
    "#Координаты в формате web mercator\n",
    "NY_coord_0_wmer = wgs84_to_web_mercator(NY_lon_0, NY_lat_0)\n",
    "NY_coord_1_wmer = wgs84_to_web_mercator(NY_lon_1, NY_lat_1)"
   ]
  },
  {
   "cell_type": "code",
   "execution_count": 5,
   "metadata": {},
   "outputs": [
    {
     "data": {
      "text/plain": [
       "2060"
      ]
     },
     "execution_count": 5,
     "metadata": {},
     "output_type": "execute_result"
    }
   ],
   "source": [
    "npickups.values.max()"
   ]
  },
  {
   "cell_type": "code",
   "execution_count": 6,
   "metadata": {
    "collapsed": true
   },
   "outputs": [],
   "source": [
    "from bokeh.io import output_file, show, curdoc\n",
    "from bokeh.models import CustomJS, ColorBar, LogTicker\n",
    "from bokeh.layouts import widgetbox, row\n",
    "from bokeh.models.widgets import Slider\n",
    "from bokeh.palettes import Inferno256 as palette\n",
    "color_mapper = LogColorMapper(palette=palette)\n"
   ]
  },
  {
   "cell_type": "markdown",
   "metadata": {},
   "source": [
    "Для упрощения реализации отображения прогноза разобъем датафрейм с предсказаниями на 6 частей и передадим их в массив."
   ]
  },
  {
   "cell_type": "code",
   "execution_count": 7,
   "metadata": {
    "collapsed": true
   },
   "outputs": [],
   "source": [
    "predictions_list = []\n",
    "for dt in range(1, 7):\n",
    "    names = []\n",
    "    for col in npickups.columns:\n",
    "        names.append('prediction_{}_dt_{}'.format(col, dt))\n",
    "    predictions_list.append(predictions.loc[:, names])"
   ]
  },
  {
   "cell_type": "code",
   "execution_count": 8,
   "metadata": {
    "collapsed": true
   },
   "outputs": [],
   "source": [
    "from bokeh.layouts import column\n",
    "from bokeh.models import CustomJS, ColumnDataSource, Slider\n",
    "from bokeh.plotting import figure, output_file, show\n",
    "\n",
    "start_slider_day = 0\n",
    "start_slider_time = 15\n",
    "start_slider_forecast = 3\n",
    "start_datetime = pd.to_datetime('2016-06-01 {}h'.format(start_slider_time))\n",
    "\n",
    "source = ColumnDataSource(data=dict(\n",
    "    x        = patch_X,\n",
    "    y        = patch_Y,\n",
    "    name     = npickups.columns,\n",
    "    npickups = predictions_list[start_slider_forecast - 1].loc[start_datetime,:],\n",
    "))\n",
    "\n",
    "plot = figure(tools='pan, wheel_zoom, hover, reset', \n",
    "              title='{} of {}, 2016. Time: {}. A {} hours \\\n",
    "              NY taxi pickups forecast'.format(start_datetime.day,\n",
    "                                               pd.datetime.strftime(start_datetime, '%B'),\n",
    "                                               pd.datetime.strftime(start_datetime, '%I %p'),\n",
    "                                               start_slider_forecast),\n",
    "              x_range=(NY_coord_1_wmer[0], NY_coord_0_wmer[0]),\n",
    "              y_range=(NY_coord_1_wmer[1], NY_coord_0_wmer[1]))\n",
    "\n",
    "plot.patches('x', 'y', source=source,\n",
    "          fill_color={'field': 'npickups', 'transform': color_mapper},\n",
    "          fill_alpha=0.4, line_color=\"white\", line_width=0.5)\n",
    "\n",
    "def update_data(attr, old, new):\n",
    "    day      = slider_day.value\n",
    "    time     = slider_time.value\n",
    "    forecast = slider_forecast.value\n",
    "    tdate = pd.to_datetime('2016-06-{} {}h'.format(day, time))\n",
    "    plot.title.text = '{} of {}, 2016. {}. A {} hours \\\n",
    "    NY taxi pickups forecast'.format(tdate.day,\n",
    "                                     pd.datetime.strftime(tdate, '%B'),\n",
    "                                     pd.datetime.strftime(tdate, '%I %p'),\n",
    "                                     forecast)\n",
    "    # Set new_data\n",
    "    new_data = dict(x=patch_X, y=patch_Y, name=npickups.columns,\n",
    "                    npickups=predictions_list[forecast - 1].loc[tdate,:])\n",
    "    # Assign new_data to: source.data\n",
    "    source.data = new_data\n",
    "\n",
    "# Make a slider object: slider\n",
    "slider_day      = Slider(title = 'day', start=1, end=31, step=1, value=start_slider_day)\n",
    "slider_time     = Slider(title = 'time ', start=0, end=24, step=1, value=start_slider_time)\n",
    "slider_forecast = Slider(title = 'forecast ', start=1, end=6, step=1, value=start_slider_forecast)\n",
    "\n",
    "# Attach the callback to the 'value' property of slider\n",
    "for w in [slider_day, slider_time, slider_forecast]:\n",
    "    w.on_change('value', update_data)\n",
    "    \n",
    "hover = plot.select_one(HoverTool)\n",
    "hover.point_policy = \"follow_mouse\"\n",
    "hover.tooltips = [\n",
    "    (\"Name\", \"@name\"),\n",
    "    (\"Pickups\", \"@npickups\"),\n",
    "    (\"(Long, Lat)\", \"($x, $y)\"),\n",
    "]\n",
    "\n",
    "plot.axis.visible = True\n",
    "plot.add_tile(CARTODBPOSITRON)\n",
    "color_bar = ColorBar(color_mapper=color_mapper, ticker=LogTicker(),\n",
    "                     label_standoff=12, border_line_color=None, location=(0,0))\n",
    "\n",
    "plot.add_layout(color_bar, 'right')\n",
    "\n",
    "# Make a row layout of widgetbox(slider) and plot and add it to the current document\n",
    "layout = column(widgetbox(slider_day, slider_time, slider_forecast), plot)\n",
    "curdoc().add_root(layout)\n",
    "show(layout)"
   ]
  },
  {
   "cell_type": "code",
   "execution_count": null,
   "metadata": {
    "collapsed": true
   },
   "outputs": [],
   "source": []
  }
 ],
 "metadata": {
  "kernelspec": {
   "display_name": "Python 2",
   "language": "python",
   "name": "python2"
  },
  "language_info": {
   "codemirror_mode": {
    "name": "ipython",
    "version": 2
   },
   "file_extension": ".py",
   "mimetype": "text/x-python",
   "name": "python",
   "nbconvert_exporter": "python",
   "pygments_lexer": "ipython2",
   "version": "2.7.13"
  }
 },
 "nbformat": 4,
 "nbformat_minor": 2
}
